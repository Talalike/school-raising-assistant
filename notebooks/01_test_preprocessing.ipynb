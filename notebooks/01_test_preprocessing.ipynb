{
 "cells": [
  {
   "cell_type": "code",
   "execution_count": 5,
   "id": "8e81eb45",
   "metadata": {},
   "outputs": [],
   "source": [
    "import sys\n",
    "import os\n",
    "\n",
    "# Aggiungi la root del progetto al PYTHONPATH\n",
    "sys.path.append(os.path.abspath(\"..\"))\n",
    "\n",
    "from utils.preprocess_dataset import load_schoolraising_documents\n",
    "\n",
    "documents = load_schoolraising_documents()\n"
   ]
  },
  {
   "cell_type": "code",
   "execution_count": 6,
   "id": "01a18498",
   "metadata": {},
   "outputs": [
    {
     "name": "stdout",
     "output_type": "stream",
     "text": [
      "✅ Loaded 165 documents\n",
      "Title: Diventa produttore di \"Mettiti nei miei panni\", il nostro cortometraggio sull’intercultura\n",
      "In Practice: Vogliamo realizzare un video di 5 minuti che confronta la vita di un ragazzo italiano e quella di uno straniero, mostrando le differenze e le difficoltà\n",
      "Introduction: Siamo la classe 3AV dell’Istituto Albe Steiner di Torino, facciamo parte del dipartimento audiovisivi.Stiamo collaborando con l’Associazione LVIA che ci ha proposto di partecipare al concorso “Nei miei panni” bandito dal M\n",
      "{'category': 'arte_e_intrattenimento', 'school': 'IPS Albe Steiner', 'id': 107}\n"
     ]
    }
   ],
   "source": [
    "print(f\"✅ Loaded {len(documents)} documents\")\n",
    "print(documents[0].page_content[:500])  # preview contenuto\n",
    "print(documents[0].metadata)            # preview metadati\n"
   ]
  }
 ],
 "metadata": {
  "kernelspec": {
   "display_name": ".venv",
   "language": "python",
   "name": "python3"
  },
  "language_info": {
   "codemirror_mode": {
    "name": "ipython",
    "version": 3
   },
   "file_extension": ".py",
   "mimetype": "text/x-python",
   "name": "python",
   "nbconvert_exporter": "python",
   "pygments_lexer": "ipython3",
   "version": "3.12.4"
  }
 },
 "nbformat": 4,
 "nbformat_minor": 5
}
